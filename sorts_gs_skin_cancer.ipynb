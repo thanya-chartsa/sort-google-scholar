{
  "nbformat": 4,
  "nbformat_minor": 0,
  "metadata": {
    "colab": {
      "name": "Test sortgs.py on Colab.ipynb",
      "provenance": [],
      "include_colab_link": true
    },
    "kernelspec": {
      "name": "python3",
      "display_name": "Python 3"
    }
  },
  "cells": [
    {
      "cell_type": "markdown",
      "metadata": {
        "id": "view-in-github",
        "colab_type": "text"
      },
      "source": [
        "<a href=\"https://colab.research.google.com/github/thanya-chartsa/sort-google-scholar/blob/master/sorts_gs_skin_cancer.ipynb\" target=\"_parent\"><img src=\"https://colab.research.google.com/assets/colab-badge.svg\" alt=\"Open In Colab\"/></a>"
      ]
    },
    {
      "cell_type": "markdown",
      "metadata": {
        "id": "M36VFanosbkb"
      },
      "source": [
        "## Try `sortgs.py` on Google Colab\n",
        "This is a jupyter envirnment where you can try the code of the repository without installing anything. The only limitation is the robot checking problem which would require selenium and manual solution of the captchas, but for trying a few keywords, it should work! \n",
        "\n",
        "> **INSTRUCTIONS:** If this is the first time you are using a jupyter environment, you simply have to run the code blocks using the keyword `SHIFT` + `ENTER`. Make sure to update the keyword parameters when required. \n",
        "\n",
        "First, let's clone the repository:"
      ]
    },
    {
      "cell_type": "code",
      "metadata": {
        "id": "oPot8aWcsfei",
        "outputId": "59be20a3-c092-4228-ac64-5cd9ddd5b23c",
        "colab": {
          "base_uri": "https://localhost:8080/"
        }
      },
      "source": [
        "!git clone https://github.com/thanya-chartsa/sort-google-scholar.git"
      ],
      "execution_count": 1,
      "outputs": [
        {
          "output_type": "stream",
          "name": "stdout",
          "text": [
            "Cloning into 'sort-google-scholar'...\n",
            "remote: Enumerating objects: 260, done.\u001b[K\n",
            "remote: Counting objects: 100% (33/33), done.\u001b[K\n",
            "remote: Compressing objects: 100% (30/30), done.\u001b[K\n",
            "remote: Total 260 (delta 17), reused 9 (delta 3), pack-reused 227\u001b[K\n",
            "Receiving objects: 100% (260/260), 148.56 KiB | 5.94 MiB/s, done.\n",
            "Resolving deltas: 100% (120/120), done.\n"
          ]
        }
      ]
    },
    {
      "cell_type": "markdown",
      "metadata": {
        "id": "pM5XMRmVspR7"
      },
      "source": [
        "Now, let's open the folder from the cloned repository:"
      ]
    },
    {
      "cell_type": "code",
      "metadata": {
        "id": "LQ0mCxVNrlCB",
        "colab": {
          "base_uri": "https://localhost:8080/"
        },
        "outputId": "f4957b61-c8b5-452d-9e9f-386b2ea71e75"
      },
      "source": [
        "cd sort-google-scholar/"
      ],
      "execution_count": 2,
      "outputs": [
        {
          "output_type": "stream",
          "name": "stdout",
          "text": [
            "/content/sort-google-scholar\n"
          ]
        }
      ]
    },
    {
      "cell_type": "markdown",
      "metadata": {
        "id": "KALGyCEJsvTL"
      },
      "source": [
        "Next, let's run the code. Make sure to change the keyword that you would like to have it ranked."
      ]
    },
    {
      "cell_type": "code",
      "metadata": {
        "id": "dohZcNUmrost",
        "colab": {
          "base_uri": "https://localhost:8080/"
        },
        "outputId": "d04b0ec0-b790-4e49-8b72-c4e989af6528"
      },
      "source": [
        "# Change the keyword that you would like to check\n",
        "!python sortgs.py --kw \"skin_cancer\" --sortby \"cit/year\""
      ],
      "execution_count": 3,
      "outputs": [
        {
          "output_type": "stream",
          "name": "stdout",
          "text": [
            "Loading next 10 results\n",
            "Loading next 20 results\n",
            "Loading next 30 results\n",
            "Loading next 40 results\n",
            "Loading next 50 results\n",
            "Loading next 60 results\n",
            "Loading next 70 results\n",
            "Loading next 80 results\n",
            "Loading next 90 results\n",
            "Loading next 100 results\n",
            "Loading next 110 results\n",
            "Loading next 120 results\n",
            "Loading next 130 results\n",
            "Loading next 140 results\n",
            "Loading next 150 results\n",
            "Loading next 160 results\n",
            "Loading next 170 results\n",
            "Loading next 180 results\n",
            "Loading next 190 results\n",
            "Loading next 200 results\n",
            "Loading next 210 results\n",
            "Loading next 220 results\n",
            "Loading next 230 results\n",
            "Loading next 240 results\n",
            "Loading next 250 results\n",
            "Loading next 260 results\n",
            "Loading next 270 results\n",
            "Loading next 280 results\n",
            "Loading next 290 results\n",
            "Loading next 300 results\n",
            "Loading next 310 results\n",
            "Loading next 320 results\n",
            "Loading next 330 results\n",
            "Loading next 340 results\n",
            "Loading next 350 results\n",
            "Loading next 360 results\n",
            "Loading next 370 results\n",
            "Loading next 380 results\n",
            "Loading next 390 results\n",
            "Loading next 400 results\n",
            "Loading next 410 results\n",
            "Loading next 420 results\n",
            "Loading next 430 results\n",
            "Loading next 440 results\n",
            "Loading next 450 results\n",
            "Loading next 460 results\n",
            "Loading next 470 results\n",
            "Loading next 480 results\n",
            "Loading next 490 results\n",
            "Loading next 500 results\n",
            "                                             Author  ... cit/year\n",
            "Rank                                                 ...         \n",
            "77    Esteva, B Kuprel, RA Novoa, J Ko, SM Swetter…  ...     1405\n",
            "114               Rogers, MA Weinstock, SR Feldman…  ...      175\n",
            "56                           Lomas, J Leonardi‐Bee…  ...      159\n",
            "469                             Brenner, VJ Hearing  ...      112\n",
            "15                 Rogers, MA Weinstock, AR Harris…  ...      104\n",
            "...                                             ...  ...      ...\n",
            "436                        Champsas, O Papadopoulos  ...        0\n",
            "433            Ceylan, HE Misak, N Strong, SY Yang…  ...        0\n",
            "463       Ozsahin, DU Ozsahin, K Meck, ST Halimani…  ...        0\n",
            "239                                         Katiyar  ...        0\n",
            "486               Misak, F Abedin, M Man, J Herring  ...        0\n",
            "\n",
            "[500 rows x 8 columns]\n"
          ]
        }
      ]
    },
    {
      "cell_type": "markdown",
      "metadata": {
        "id": "s_nuxpy_s_9c"
      },
      "source": [
        "> _**NOTE:** It is normal to get some warnings, for example year not found or author not found. However, if you get the robot checking warning, then it might not work anymore in the IP that you have on Google Colab. You can try going in 'Runtime' > 'Disconnect and delete runtime' to get a new IP. If the problem persists, then you will have to run locally using selenium and solve the captchas manually. Make sure to avoid running this code too often to avoid the robot checking problem._\n",
        "\n",
        "Next, you will see that a csv file with the name of the keyword was created (which is `skin_cancer.csv` in my case). "
      ]
    },
    {
      "cell_type": "code",
      "metadata": {
        "id": "94792EoBrrBU",
        "colab": {
          "base_uri": "https://localhost:8080/"
        },
        "outputId": "77e7ccd3-4180-41d0-c292-855e5a1b53d4"
      },
      "source": [
        "ls"
      ],
      "execution_count": 5,
      "outputs": [
        {
          "output_type": "stream",
          "name": "stdout",
          "text": [
            "\u001b[0m\u001b[01;34mexamples\u001b[0m/         skin_cancer.csv          sorts_gs_skin_cancer.ipynb\n",
            "README.md         \u001b[01;34msort-google-scholar-V1\u001b[0m/  \u001b[01;34mtest\u001b[0m/\n",
            "requirements.txt  \u001b[01;32msortgs.py\u001b[0m*               Test_sortgs_py_on_Colab.ipynb\n"
          ]
        }
      ]
    },
    {
      "cell_type": "markdown",
      "metadata": {
        "id": "QQIb9oYou9GM"
      },
      "source": [
        "Let's import this file to visualize some results (make sure to change `skin_cancer.csv` to the file name that was created in your case):"
      ]
    },
    {
      "cell_type": "code",
      "metadata": {
        "id": "NVoHI4zTr5pB"
      },
      "source": [
        "import pandas as pd\n",
        "df = pd.read_csv('skin_cancer.csv') # OBS: Update the file name"
      ],
      "execution_count": 6,
      "outputs": []
    },
    {
      "cell_type": "code",
      "metadata": {
        "id": "S1NzeUq0sOu-",
        "colab": {
          "base_uri": "https://localhost:8080/",
          "height": 1000
        },
        "outputId": "6dec2186-bdde-4db7-dd2d-5b7b6a21ebc2"
      },
      "source": [
        "df.head(20)"
      ],
      "execution_count": 7,
      "outputs": [
        {
          "output_type": "execute_result",
          "data": {
            "text/plain": [
              "    Rank                                         Author  \\\n",
              "0     77  Esteva, B Kuprel, RA Novoa, J Ko, SM Swetter…   \n",
              "1    114              Rogers, MA Weinstock, SR Feldman…   \n",
              "2     56                         Lomas, J Leonardi‐Bee…   \n",
              "3    469                            Brenner, VJ Hearing   \n",
              "4     15               Rogers, MA Weinstock, AR Harris…   \n",
              "5     26                           Armstrong, A Kricker   \n",
              "6    460                                            Gra   \n",
              "7     49    Tschandl, C Rinner, Z Apalla, G Argenziano…   \n",
              "8      4                Guy Jr, SR Machlin, DU Ekwueme…   \n",
              "9     12     Apalla, A Lallas, E Sotiriou, E Lazaridou…   \n",
              "10    13                          Narayanan, RN Saladi…   \n",
              "11     3                              Diepgen, V Mahler   \n",
              "12     6                    Madan, JT Lear, RM Szeimies   \n",
              "13   143                   Brash, JA Rudolph, JA Simon…   \n",
              "14   473                 Guy Jr, CC Thomas, T Thompson…   \n",
              "15     9      Reichrath, U Leiter, T Eigentler, C Garbe   \n",
              "16   454            Combalia, NCF Codella, V Rotemberg…   \n",
              "17   116    Ziegler, AS Jonason, DJ Leffellt, JA Simon…   \n",
              "18   145                       Chen, AJ Martin, B Choy…   \n",
              "19    63                                Leiter, C Garbe   \n",
              "\n",
              "                                                Title  Citations  Year  \\\n",
              "0   Dermatologist-level classification of skin can...       9837  2017   \n",
              "1   Incidence estimate of nonmelanoma skin cancer ...       1572  2015   \n",
              "2   A systematic review of worldwide incidence of ...       1909  2012   \n",
              "3   The Protective Role of Melanin Against UV Dama...       1787  2008   \n",
              "4   Incidence estimate of nonmelanoma skin cancer ...       1463  2010   \n",
              "5          The epidemiology of UV induced skin cancer       2200  2001   \n",
              "6           Melanoma biology and new targeted therapy       1612  2007   \n",
              "7   Human–computer collaboration for skin cancer r...        373  2020   \n",
              "8   Prevalence and costs of skin cancer treatment ...        832  2015   \n",
              "9               Epidemiological trends in skin cancer        574  2017   \n",
              "10              Ultraviolet radiation and skin cancer       1130  2010   \n",
              "11                    The epidemiology of skin cancer       1758  2002   \n",
              "12                           Non-melanoma skin cancer       1024  2010   \n",
              "13  A role for sunlight in skin cancer: UV-induced...       2380  1991   \n",
              "14  Vital signs: melanoma incidence and mortality ...        617  2015   \n",
              "15                        Epidemiology of skin cancer        689  2014   \n",
              "16          Bcn20000: Dermoscopic lesions in the wild        308  2019   \n",
              "17        Sunburn and p53 in the onset of skin cancer       1812  1994   \n",
              "18  A phase 3 randomized trial of nicotinamide for...        535  2015   \n",
              "19  Epidemiology of melanoma and nonmelanoma skin ...        938  2008   \n",
              "\n",
              "                  Publisher                                            Venue  \\\n",
              "0                nature.com                                           nature   \n",
              "1           jamanetwork.com                                           JAMA …   \n",
              "2          academic.oup.com                             British Journal of …   \n",
              "3      Wiley Online Library                  Photochemistry and photobiology   \n",
              "4           jamanetwork.com                                    Archives of …   \n",
              "5                  Elsevier   Journal of photochemistry and photobiology B …   \n",
              "6                nature.com                                           Nature   \n",
              "7                nature.com                                  Nature Medicine   \n",
              "8                  Elsevier                            American journal of …   \n",
              "9          ncbi.nlm.nih.gov                         … practical & conceptual   \n",
              "10     Wiley Online Library                       International journal of …   \n",
              "11         academic.oup.com                   British Journal of Dermatology   \n",
              "12            thelancet.com                                       The lancet   \n",
              "13   National Acad Sciences                             Proceedings of the …   \n",
              "14         ncbi.nlm.nih.gov                         … and mortality weekly …   \n",
              "15                 Springer                    …   vitamin D and skin cancer   \n",
              "16                arxiv.org                           arXiv preprint arXiv …   \n",
              "17               nature.com                                           Nature   \n",
              "18         Mass Medical Soc                            New England journal …   \n",
              "19                 Springer              Sunlight  vitamin D and skin cancer   \n",
              "\n",
              "                                               Source  cit/year  \n",
              "0        https://www.nature.com/articles/nature21056.      1405  \n",
              "1   https://jamanetwork.com/journals/jamadermatolo...       175  \n",
              "2   https://academic.oup.com/bjd/article-abstract/...       159  \n",
              "3   https://onlinelibrary.wiley.com/doi/abs/10.111...       112  \n",
              "4   https://jamanetwork.com/journals/jamadermatolo...       104  \n",
              "5   https://www.sciencedirect.com/science/article/...        96  \n",
              "6         https://www.nature.com/articles/nature05661        95  \n",
              "7   https://www.nature.com/articles/s41591-020-0942-0        93  \n",
              "8   https://www.sciencedirect.com/science/article/...        92  \n",
              "9   https://www.ncbi.nlm.nih.gov/pmc/articles/PMC5...        82  \n",
              "10  https://onlinelibrary.wiley.com/doi/abs/10.111...        81  \n",
              "11  https://academic.oup.com/bjd/article-abstract/...        80  \n",
              "12  https://www.thelancet.com/journals/lancet/arti...        73  \n",
              "13  https://www.pnas.org/doi/abs/10.1073/pnas.88.2...        72  \n",
              "14  https://www.ncbi.nlm.nih.gov/pmc/articles/PMC4...        69  \n",
              "15  https://link.springer.com/chapter/10.1007/978-...        69  \n",
              "16                   https://arxiv.org/abs/1908.02288        62  \n",
              "17           https://www.nature.com/articles/372773a0        60  \n",
              "18  https://www.nejm.org/doi/full/10.1056/nejmoa15...        59  \n",
              "19  https://link.springer.com/chapter/10.1007/978-...        59  "
            ],
            "text/html": [
              "\n",
              "  <div id=\"df-c22d3ce6-0f1d-4293-958f-3b097accdf53\">\n",
              "    <div class=\"colab-df-container\">\n",
              "      <div>\n",
              "<style scoped>\n",
              "    .dataframe tbody tr th:only-of-type {\n",
              "        vertical-align: middle;\n",
              "    }\n",
              "\n",
              "    .dataframe tbody tr th {\n",
              "        vertical-align: top;\n",
              "    }\n",
              "\n",
              "    .dataframe thead th {\n",
              "        text-align: right;\n",
              "    }\n",
              "</style>\n",
              "<table border=\"1\" class=\"dataframe\">\n",
              "  <thead>\n",
              "    <tr style=\"text-align: right;\">\n",
              "      <th></th>\n",
              "      <th>Rank</th>\n",
              "      <th>Author</th>\n",
              "      <th>Title</th>\n",
              "      <th>Citations</th>\n",
              "      <th>Year</th>\n",
              "      <th>Publisher</th>\n",
              "      <th>Venue</th>\n",
              "      <th>Source</th>\n",
              "      <th>cit/year</th>\n",
              "    </tr>\n",
              "  </thead>\n",
              "  <tbody>\n",
              "    <tr>\n",
              "      <th>0</th>\n",
              "      <td>77</td>\n",
              "      <td>Esteva, B Kuprel, RA Novoa, J Ko, SM Swetter…</td>\n",
              "      <td>Dermatologist-level classification of skin can...</td>\n",
              "      <td>9837</td>\n",
              "      <td>2017</td>\n",
              "      <td>nature.com</td>\n",
              "      <td>nature</td>\n",
              "      <td>https://www.nature.com/articles/nature21056.</td>\n",
              "      <td>1405</td>\n",
              "    </tr>\n",
              "    <tr>\n",
              "      <th>1</th>\n",
              "      <td>114</td>\n",
              "      <td>Rogers, MA Weinstock, SR Feldman…</td>\n",
              "      <td>Incidence estimate of nonmelanoma skin cancer ...</td>\n",
              "      <td>1572</td>\n",
              "      <td>2015</td>\n",
              "      <td>jamanetwork.com</td>\n",
              "      <td>JAMA …</td>\n",
              "      <td>https://jamanetwork.com/journals/jamadermatolo...</td>\n",
              "      <td>175</td>\n",
              "    </tr>\n",
              "    <tr>\n",
              "      <th>2</th>\n",
              "      <td>56</td>\n",
              "      <td>Lomas, J Leonardi‐Bee…</td>\n",
              "      <td>A systematic review of worldwide incidence of ...</td>\n",
              "      <td>1909</td>\n",
              "      <td>2012</td>\n",
              "      <td>academic.oup.com</td>\n",
              "      <td>British Journal of …</td>\n",
              "      <td>https://academic.oup.com/bjd/article-abstract/...</td>\n",
              "      <td>159</td>\n",
              "    </tr>\n",
              "    <tr>\n",
              "      <th>3</th>\n",
              "      <td>469</td>\n",
              "      <td>Brenner, VJ Hearing</td>\n",
              "      <td>The Protective Role of Melanin Against UV Dama...</td>\n",
              "      <td>1787</td>\n",
              "      <td>2008</td>\n",
              "      <td>Wiley Online Library</td>\n",
              "      <td>Photochemistry and photobiology</td>\n",
              "      <td>https://onlinelibrary.wiley.com/doi/abs/10.111...</td>\n",
              "      <td>112</td>\n",
              "    </tr>\n",
              "    <tr>\n",
              "      <th>4</th>\n",
              "      <td>15</td>\n",
              "      <td>Rogers, MA Weinstock, AR Harris…</td>\n",
              "      <td>Incidence estimate of nonmelanoma skin cancer ...</td>\n",
              "      <td>1463</td>\n",
              "      <td>2010</td>\n",
              "      <td>jamanetwork.com</td>\n",
              "      <td>Archives of …</td>\n",
              "      <td>https://jamanetwork.com/journals/jamadermatolo...</td>\n",
              "      <td>104</td>\n",
              "    </tr>\n",
              "    <tr>\n",
              "      <th>5</th>\n",
              "      <td>26</td>\n",
              "      <td>Armstrong, A Kricker</td>\n",
              "      <td>The epidemiology of UV induced skin cancer</td>\n",
              "      <td>2200</td>\n",
              "      <td>2001</td>\n",
              "      <td>Elsevier</td>\n",
              "      <td>Journal of photochemistry and photobiology B …</td>\n",
              "      <td>https://www.sciencedirect.com/science/article/...</td>\n",
              "      <td>96</td>\n",
              "    </tr>\n",
              "    <tr>\n",
              "      <th>6</th>\n",
              "      <td>460</td>\n",
              "      <td>Gra</td>\n",
              "      <td>Melanoma biology and new targeted therapy</td>\n",
              "      <td>1612</td>\n",
              "      <td>2007</td>\n",
              "      <td>nature.com</td>\n",
              "      <td>Nature</td>\n",
              "      <td>https://www.nature.com/articles/nature05661</td>\n",
              "      <td>95</td>\n",
              "    </tr>\n",
              "    <tr>\n",
              "      <th>7</th>\n",
              "      <td>49</td>\n",
              "      <td>Tschandl, C Rinner, Z Apalla, G Argenziano…</td>\n",
              "      <td>Human–computer collaboration for skin cancer r...</td>\n",
              "      <td>373</td>\n",
              "      <td>2020</td>\n",
              "      <td>nature.com</td>\n",
              "      <td>Nature Medicine</td>\n",
              "      <td>https://www.nature.com/articles/s41591-020-0942-0</td>\n",
              "      <td>93</td>\n",
              "    </tr>\n",
              "    <tr>\n",
              "      <th>8</th>\n",
              "      <td>4</td>\n",
              "      <td>Guy Jr, SR Machlin, DU Ekwueme…</td>\n",
              "      <td>Prevalence and costs of skin cancer treatment ...</td>\n",
              "      <td>832</td>\n",
              "      <td>2015</td>\n",
              "      <td>Elsevier</td>\n",
              "      <td>American journal of …</td>\n",
              "      <td>https://www.sciencedirect.com/science/article/...</td>\n",
              "      <td>92</td>\n",
              "    </tr>\n",
              "    <tr>\n",
              "      <th>9</th>\n",
              "      <td>12</td>\n",
              "      <td>Apalla, A Lallas, E Sotiriou, E Lazaridou…</td>\n",
              "      <td>Epidemiological trends in skin cancer</td>\n",
              "      <td>574</td>\n",
              "      <td>2017</td>\n",
              "      <td>ncbi.nlm.nih.gov</td>\n",
              "      <td>… practical &amp; conceptual</td>\n",
              "      <td>https://www.ncbi.nlm.nih.gov/pmc/articles/PMC5...</td>\n",
              "      <td>82</td>\n",
              "    </tr>\n",
              "    <tr>\n",
              "      <th>10</th>\n",
              "      <td>13</td>\n",
              "      <td>Narayanan, RN Saladi…</td>\n",
              "      <td>Ultraviolet radiation and skin cancer</td>\n",
              "      <td>1130</td>\n",
              "      <td>2010</td>\n",
              "      <td>Wiley Online Library</td>\n",
              "      <td>International journal of …</td>\n",
              "      <td>https://onlinelibrary.wiley.com/doi/abs/10.111...</td>\n",
              "      <td>81</td>\n",
              "    </tr>\n",
              "    <tr>\n",
              "      <th>11</th>\n",
              "      <td>3</td>\n",
              "      <td>Diepgen, V Mahler</td>\n",
              "      <td>The epidemiology of skin cancer</td>\n",
              "      <td>1758</td>\n",
              "      <td>2002</td>\n",
              "      <td>academic.oup.com</td>\n",
              "      <td>British Journal of Dermatology</td>\n",
              "      <td>https://academic.oup.com/bjd/article-abstract/...</td>\n",
              "      <td>80</td>\n",
              "    </tr>\n",
              "    <tr>\n",
              "      <th>12</th>\n",
              "      <td>6</td>\n",
              "      <td>Madan, JT Lear, RM Szeimies</td>\n",
              "      <td>Non-melanoma skin cancer</td>\n",
              "      <td>1024</td>\n",
              "      <td>2010</td>\n",
              "      <td>thelancet.com</td>\n",
              "      <td>The lancet</td>\n",
              "      <td>https://www.thelancet.com/journals/lancet/arti...</td>\n",
              "      <td>73</td>\n",
              "    </tr>\n",
              "    <tr>\n",
              "      <th>13</th>\n",
              "      <td>143</td>\n",
              "      <td>Brash, JA Rudolph, JA Simon…</td>\n",
              "      <td>A role for sunlight in skin cancer: UV-induced...</td>\n",
              "      <td>2380</td>\n",
              "      <td>1991</td>\n",
              "      <td>National Acad Sciences</td>\n",
              "      <td>Proceedings of the …</td>\n",
              "      <td>https://www.pnas.org/doi/abs/10.1073/pnas.88.2...</td>\n",
              "      <td>72</td>\n",
              "    </tr>\n",
              "    <tr>\n",
              "      <th>14</th>\n",
              "      <td>473</td>\n",
              "      <td>Guy Jr, CC Thomas, T Thompson…</td>\n",
              "      <td>Vital signs: melanoma incidence and mortality ...</td>\n",
              "      <td>617</td>\n",
              "      <td>2015</td>\n",
              "      <td>ncbi.nlm.nih.gov</td>\n",
              "      <td>… and mortality weekly …</td>\n",
              "      <td>https://www.ncbi.nlm.nih.gov/pmc/articles/PMC4...</td>\n",
              "      <td>69</td>\n",
              "    </tr>\n",
              "    <tr>\n",
              "      <th>15</th>\n",
              "      <td>9</td>\n",
              "      <td>Reichrath, U Leiter, T Eigentler, C Garbe</td>\n",
              "      <td>Epidemiology of skin cancer</td>\n",
              "      <td>689</td>\n",
              "      <td>2014</td>\n",
              "      <td>Springer</td>\n",
              "      <td>…   vitamin D and skin cancer</td>\n",
              "      <td>https://link.springer.com/chapter/10.1007/978-...</td>\n",
              "      <td>69</td>\n",
              "    </tr>\n",
              "    <tr>\n",
              "      <th>16</th>\n",
              "      <td>454</td>\n",
              "      <td>Combalia, NCF Codella, V Rotemberg…</td>\n",
              "      <td>Bcn20000: Dermoscopic lesions in the wild</td>\n",
              "      <td>308</td>\n",
              "      <td>2019</td>\n",
              "      <td>arxiv.org</td>\n",
              "      <td>arXiv preprint arXiv …</td>\n",
              "      <td>https://arxiv.org/abs/1908.02288</td>\n",
              "      <td>62</td>\n",
              "    </tr>\n",
              "    <tr>\n",
              "      <th>17</th>\n",
              "      <td>116</td>\n",
              "      <td>Ziegler, AS Jonason, DJ Leffellt, JA Simon…</td>\n",
              "      <td>Sunburn and p53 in the onset of skin cancer</td>\n",
              "      <td>1812</td>\n",
              "      <td>1994</td>\n",
              "      <td>nature.com</td>\n",
              "      <td>Nature</td>\n",
              "      <td>https://www.nature.com/articles/372773a0</td>\n",
              "      <td>60</td>\n",
              "    </tr>\n",
              "    <tr>\n",
              "      <th>18</th>\n",
              "      <td>145</td>\n",
              "      <td>Chen, AJ Martin, B Choy…</td>\n",
              "      <td>A phase 3 randomized trial of nicotinamide for...</td>\n",
              "      <td>535</td>\n",
              "      <td>2015</td>\n",
              "      <td>Mass Medical Soc</td>\n",
              "      <td>New England journal …</td>\n",
              "      <td>https://www.nejm.org/doi/full/10.1056/nejmoa15...</td>\n",
              "      <td>59</td>\n",
              "    </tr>\n",
              "    <tr>\n",
              "      <th>19</th>\n",
              "      <td>63</td>\n",
              "      <td>Leiter, C Garbe</td>\n",
              "      <td>Epidemiology of melanoma and nonmelanoma skin ...</td>\n",
              "      <td>938</td>\n",
              "      <td>2008</td>\n",
              "      <td>Springer</td>\n",
              "      <td>Sunlight  vitamin D and skin cancer</td>\n",
              "      <td>https://link.springer.com/chapter/10.1007/978-...</td>\n",
              "      <td>59</td>\n",
              "    </tr>\n",
              "  </tbody>\n",
              "</table>\n",
              "</div>\n",
              "      <button class=\"colab-df-convert\" onclick=\"convertToInteractive('df-c22d3ce6-0f1d-4293-958f-3b097accdf53')\"\n",
              "              title=\"Convert this dataframe to an interactive table.\"\n",
              "              style=\"display:none;\">\n",
              "        \n",
              "  <svg xmlns=\"http://www.w3.org/2000/svg\" height=\"24px\"viewBox=\"0 0 24 24\"\n",
              "       width=\"24px\">\n",
              "    <path d=\"M0 0h24v24H0V0z\" fill=\"none\"/>\n",
              "    <path d=\"M18.56 5.44l.94 2.06.94-2.06 2.06-.94-2.06-.94-.94-2.06-.94 2.06-2.06.94zm-11 1L8.5 8.5l.94-2.06 2.06-.94-2.06-.94L8.5 2.5l-.94 2.06-2.06.94zm10 10l.94 2.06.94-2.06 2.06-.94-2.06-.94-.94-2.06-.94 2.06-2.06.94z\"/><path d=\"M17.41 7.96l-1.37-1.37c-.4-.4-.92-.59-1.43-.59-.52 0-1.04.2-1.43.59L10.3 9.45l-7.72 7.72c-.78.78-.78 2.05 0 2.83L4 21.41c.39.39.9.59 1.41.59.51 0 1.02-.2 1.41-.59l7.78-7.78 2.81-2.81c.8-.78.8-2.07 0-2.86zM5.41 20L4 18.59l7.72-7.72 1.47 1.35L5.41 20z\"/>\n",
              "  </svg>\n",
              "      </button>\n",
              "      \n",
              "  <style>\n",
              "    .colab-df-container {\n",
              "      display:flex;\n",
              "      flex-wrap:wrap;\n",
              "      gap: 12px;\n",
              "    }\n",
              "\n",
              "    .colab-df-convert {\n",
              "      background-color: #E8F0FE;\n",
              "      border: none;\n",
              "      border-radius: 50%;\n",
              "      cursor: pointer;\n",
              "      display: none;\n",
              "      fill: #1967D2;\n",
              "      height: 32px;\n",
              "      padding: 0 0 0 0;\n",
              "      width: 32px;\n",
              "    }\n",
              "\n",
              "    .colab-df-convert:hover {\n",
              "      background-color: #E2EBFA;\n",
              "      box-shadow: 0px 1px 2px rgba(60, 64, 67, 0.3), 0px 1px 3px 1px rgba(60, 64, 67, 0.15);\n",
              "      fill: #174EA6;\n",
              "    }\n",
              "\n",
              "    [theme=dark] .colab-df-convert {\n",
              "      background-color: #3B4455;\n",
              "      fill: #D2E3FC;\n",
              "    }\n",
              "\n",
              "    [theme=dark] .colab-df-convert:hover {\n",
              "      background-color: #434B5C;\n",
              "      box-shadow: 0px 1px 3px 1px rgba(0, 0, 0, 0.15);\n",
              "      filter: drop-shadow(0px 1px 2px rgba(0, 0, 0, 0.3));\n",
              "      fill: #FFFFFF;\n",
              "    }\n",
              "  </style>\n",
              "\n",
              "      <script>\n",
              "        const buttonEl =\n",
              "          document.querySelector('#df-c22d3ce6-0f1d-4293-958f-3b097accdf53 button.colab-df-convert');\n",
              "        buttonEl.style.display =\n",
              "          google.colab.kernel.accessAllowed ? 'block' : 'none';\n",
              "\n",
              "        async function convertToInteractive(key) {\n",
              "          const element = document.querySelector('#df-c22d3ce6-0f1d-4293-958f-3b097accdf53');\n",
              "          const dataTable =\n",
              "            await google.colab.kernel.invokeFunction('convertToInteractive',\n",
              "                                                     [key], {});\n",
              "          if (!dataTable) return;\n",
              "\n",
              "          const docLinkHtml = 'Like what you see? Visit the ' +\n",
              "            '<a target=\"_blank\" href=https://colab.research.google.com/notebooks/data_table.ipynb>data table notebook</a>'\n",
              "            + ' to learn more about interactive tables.';\n",
              "          element.innerHTML = '';\n",
              "          dataTable['output_type'] = 'display_data';\n",
              "          await google.colab.output.renderOutput(dataTable, element);\n",
              "          const docLink = document.createElement('div');\n",
              "          docLink.innerHTML = docLinkHtml;\n",
              "          element.appendChild(docLink);\n",
              "        }\n",
              "      </script>\n",
              "    </div>\n",
              "  </div>\n",
              "  "
            ]
          },
          "metadata": {},
          "execution_count": 7
        }
      ]
    },
    {
      "cell_type": "markdown",
      "metadata": {
        "id": "t7ZCDWaksZxj"
      },
      "source": [
        "Above we have the top 10 papers of deep learning ranked by citations per year. It is incredible that some papers are very far away from the original rank."
      ]
    },
    {
      "cell_type": "markdown",
      "metadata": {
        "id": "-xx5GEHuybPd"
      },
      "source": [
        "Finally, let's download the CSV results (make sure to update the CSV name here as well):"
      ]
    },
    {
      "cell_type": "code",
      "source": [
        "df.head(20).to_csv('skin_cancer_20.csv')"
      ],
      "metadata": {
        "id": "LCloqmJU_Kpk"
      },
      "execution_count": 8,
      "outputs": []
    },
    {
      "cell_type": "code",
      "metadata": {
        "id": "Svc1GCM2yaLP"
      },
      "source": [
        "from google.colab import files\n",
        "files.download('skin_cancer.csv') # Update the file name here"
      ],
      "execution_count": null,
      "outputs": []
    },
    {
      "cell_type": "markdown",
      "metadata": {
        "id": "09OFwDdM2K5h"
      },
      "source": [
        "OBS: If you get an error running the previous line, you can download the file manually by clicking in the left pane icon (below the `+ Code` button), then click in files, expand the `sort-google-scholar` folder, right click and download in the csv file:\n",
        "\n",
        "![](https://i.stack.imgur.com/KKJXFm.png)"
      ]
    }
  ]
}