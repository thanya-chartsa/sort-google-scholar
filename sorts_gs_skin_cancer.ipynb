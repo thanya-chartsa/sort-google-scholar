{
  "nbformat": 4,
  "nbformat_minor": 0,
  "metadata": {
    "colab": {
      "name": "Test sortgs.py on Colab.ipynb",
      "provenance": [],
      "include_colab_link": true
    },
    "kernelspec": {
      "name": "python3",
      "display_name": "Python 3"
    }
  },
  "cells": [
    {
      "cell_type": "markdown",
      "metadata": {
        "id": "view-in-github",
        "colab_type": "text"
      },
      "source": [
        "<a href=\"https://colab.research.google.com/github/thanya-chartsa/sort-google-scholar/blob/master/sorts_gs_skin_cancer.ipynb\" target=\"_parent\"><img src=\"https://colab.research.google.com/assets/colab-badge.svg\" alt=\"Open In Colab\"/></a>"
      ]
    },
    {
      "cell_type": "markdown",
      "metadata": {
        "id": "M36VFanosbkb"
      },
      "source": [
        "## Try `sortgs.py` on Google Colab\n",
        "This is a jupyter envirnment where you can try the code of the repository without installing anything. The only limitation is the robot checking problem which would require selenium and manual solution of the captchas, but for trying a few keywords, it should work! \n",
        "\n",
        "> **INSTRUCTIONS:** If this is the first time you are using a jupyter environment, you simply have to run the code blocks using the keyword `SHIFT` + `ENTER`. Make sure to update the keyword parameters when required. \n",
        "\n",
        "First, let's clone the repository:"
      ]
    },
    {
      "cell_type": "code",
      "metadata": {
        "id": "oPot8aWcsfei",
        "outputId": "61158ae0-81ff-4631-9abc-c1731ad4e786",
        "colab": {
          "base_uri": "https://localhost:8080/"
        }
      },
      "source": [
        "!git clone https://github.com/thanya-chartsa/sort-google-scholar.git"
      ],
      "execution_count": 1,
      "outputs": [
        {
          "output_type": "stream",
          "name": "stdout",
          "text": [
            "Cloning into 'sort-google-scholar'...\n",
            "remote: Enumerating objects: 245, done.\u001b[K\n",
            "remote: Counting objects: 100% (18/18), done.\u001b[K\n",
            "remote: Compressing objects: 100% (15/15), done.\u001b[K\n",
            "remote: Total 245 (delta 6), reused 9 (delta 3), pack-reused 227\u001b[K\n",
            "Receiving objects: 100% (245/245), 139.93 KiB | 2.74 MiB/s, done.\n",
            "Resolving deltas: 100% (109/109), done.\n"
          ]
        }
      ]
    },
    {
      "cell_type": "markdown",
      "metadata": {
        "id": "pM5XMRmVspR7"
      },
      "source": [
        "Now, let's open the folder from the cloned repository:"
      ]
    },
    {
      "cell_type": "code",
      "metadata": {
        "id": "LQ0mCxVNrlCB",
        "colab": {
          "base_uri": "https://localhost:8080/"
        },
        "outputId": "b8d63c3b-e70f-4e38-afba-814aba91a277"
      },
      "source": [
        "cd sort-google-scholar/"
      ],
      "execution_count": 2,
      "outputs": [
        {
          "output_type": "stream",
          "name": "stdout",
          "text": [
            "/content/sort-google-scholar\n"
          ]
        }
      ]
    },
    {
      "cell_type": "markdown",
      "metadata": {
        "id": "KALGyCEJsvTL"
      },
      "source": [
        "Next, let's run the code. Make sure to change the keyword that you would like to have it ranked."
      ]
    },
    {
      "cell_type": "code",
      "metadata": {
        "id": "dohZcNUmrost",
        "colab": {
          "base_uri": "https://localhost:8080/"
        },
        "outputId": "3f20b88b-bcc5-4e37-d7ba-fdc98c2bde49"
      },
      "source": [
        "# Change the keyword that you would like to check\n",
        "!python sortgs.py --kw \"skin_cancer\" --sortby \"cit/year\""
      ],
      "execution_count": 3,
      "outputs": [
        {
          "output_type": "stream",
          "name": "stdout",
          "text": [
            "Loading next 10 results\n",
            "Robot checking detected, handling with selenium (if installed)\n",
            "No module named 'selenium'\n",
            "Please install Selenium and chrome webdriver for manual checking of captchas\n",
            "Loading...\n",
            "No success. The following error was raised:\n",
            "local variable 'Options' referenced before assignment\n",
            "Loading next 20 results\n",
            "Robot checking detected, handling with selenium (if installed)\n",
            "No module named 'selenium'\n",
            "Please install Selenium and chrome webdriver for manual checking of captchas\n",
            "Loading...\n",
            "No success. The following error was raised:\n",
            "local variable 'Options' referenced before assignment\n",
            "Loading next 30 results\n",
            "Robot checking detected, handling with selenium (if installed)\n",
            "No module named 'selenium'\n",
            "Please install Selenium and chrome webdriver for manual checking of captchas\n",
            "Loading...\n",
            "No success. The following error was raised:\n",
            "local variable 'Options' referenced before assignment\n",
            "Loading next 40 results\n",
            "Robot checking detected, handling with selenium (if installed)\n",
            "No module named 'selenium'\n",
            "Please install Selenium and chrome webdriver for manual checking of captchas\n",
            "Loading...\n",
            "No success. The following error was raised:\n",
            "local variable 'Options' referenced before assignment\n",
            "Loading next 50 results\n",
            "Robot checking detected, handling with selenium (if installed)\n",
            "No module named 'selenium'\n",
            "Please install Selenium and chrome webdriver for manual checking of captchas\n",
            "Loading...\n",
            "No success. The following error was raised:\n",
            "local variable 'Options' referenced before assignment\n",
            "Loading next 60 results\n",
            "Robot checking detected, handling with selenium (if installed)\n",
            "No module named 'selenium'\n",
            "Please install Selenium and chrome webdriver for manual checking of captchas\n",
            "Loading...\n",
            "No success. The following error was raised:\n",
            "local variable 'Options' referenced before assignment\n",
            "Loading next 70 results\n",
            "Robot checking detected, handling with selenium (if installed)\n",
            "No module named 'selenium'\n",
            "Please install Selenium and chrome webdriver for manual checking of captchas\n",
            "Loading...\n",
            "No success. The following error was raised:\n",
            "local variable 'Options' referenced before assignment\n",
            "Loading next 80 results\n",
            "Robot checking detected, handling with selenium (if installed)\n",
            "No module named 'selenium'\n",
            "Please install Selenium and chrome webdriver for manual checking of captchas\n",
            "Loading...\n",
            "No success. The following error was raised:\n",
            "local variable 'Options' referenced before assignment\n",
            "Loading next 90 results\n",
            "Robot checking detected, handling with selenium (if installed)\n",
            "No module named 'selenium'\n",
            "Please install Selenium and chrome webdriver for manual checking of captchas\n",
            "Loading...\n",
            "No success. The following error was raised:\n",
            "local variable 'Options' referenced before assignment\n",
            "Loading next 100 results\n",
            "Robot checking detected, handling with selenium (if installed)\n",
            "No module named 'selenium'\n",
            "Please install Selenium and chrome webdriver for manual checking of captchas\n",
            "Loading...\n",
            "No success. The following error was raised:\n",
            "local variable 'Options' referenced before assignment\n",
            "Empty DataFrame\n",
            "Columns: [Author, Title, Citations, Year, Publisher, Venue, Source, cit/year]\n",
            "Index: []\n"
          ]
        }
      ]
    },
    {
      "cell_type": "markdown",
      "metadata": {
        "id": "s_nuxpy_s_9c"
      },
      "source": [
        "> _**NOTE:** It is normal to get some warnings, for example year not found or author not found. However, if you get the robot checking warning, then it might not work anymore in the IP that you have on Google Colab. You can try going in 'Runtime' > 'Disconnect and delete runtime' to get a new IP. If the problem persists, then you will have to run locally using selenium and solve the captchas manually. Make sure to avoid running this code too often to avoid the robot checking problem._\n",
        "\n",
        "Next, you will see that a csv file with the name of the keyword was created (which is `deep_learning.csv` in my case). "
      ]
    },
    {
      "cell_type": "code",
      "metadata": {
        "id": "94792EoBrrBU",
        "colab": {
          "base_uri": "https://localhost:8080/"
        },
        "outputId": "35677678-d2c8-4414-c219-1b44ad790366"
      },
      "source": [
        "ls"
      ],
      "execution_count": 4,
      "outputs": [
        {
          "output_type": "stream",
          "name": "stdout",
          "text": [
            "\u001b[0m\u001b[01;34mexamples\u001b[0m/         skin_cancer.csv          \u001b[01;34mtest\u001b[0m/\n",
            "README.md         \u001b[01;34msort-google-scholar-V1\u001b[0m/  Test_sortgs_py_on_Colab.ipynb\n",
            "requirements.txt  \u001b[01;32msortgs.py\u001b[0m*\n"
          ]
        }
      ]
    },
    {
      "cell_type": "markdown",
      "metadata": {
        "id": "QQIb9oYou9GM"
      },
      "source": [
        "Let's import this file to visualize some results (make sure to change `skin_cancer.csv` to the file name that was created in your case):"
      ]
    },
    {
      "cell_type": "code",
      "metadata": {
        "id": "NVoHI4zTr5pB"
      },
      "source": [
        "import pandas as pd\n",
        "df = pd.read_csv('skin_cancer.csv') # OBS: Update the file name"
      ],
      "execution_count": 6,
      "outputs": []
    },
    {
      "cell_type": "code",
      "metadata": {
        "id": "S1NzeUq0sOu-",
        "colab": {
          "base_uri": "https://localhost:8080/",
          "height": 49
        },
        "outputId": "cceb60dc-fb8f-4a1b-ebd8-1c10e8569015"
      },
      "source": [
        "df.head(20)"
      ],
      "execution_count": 7,
      "outputs": [
        {
          "output_type": "execute_result",
          "data": {
            "text/plain": [
              "Empty DataFrame\n",
              "Columns: [Rank, Author, Title, Citations, Year, Publisher, Venue, Source, cit/year]\n",
              "Index: []"
            ],
            "text/html": [
              "\n",
              "  <div id=\"df-994a1fc7-55af-43b0-adba-4388d90f1d8e\">\n",
              "    <div class=\"colab-df-container\">\n",
              "      <div>\n",
              "<style scoped>\n",
              "    .dataframe tbody tr th:only-of-type {\n",
              "        vertical-align: middle;\n",
              "    }\n",
              "\n",
              "    .dataframe tbody tr th {\n",
              "        vertical-align: top;\n",
              "    }\n",
              "\n",
              "    .dataframe thead th {\n",
              "        text-align: right;\n",
              "    }\n",
              "</style>\n",
              "<table border=\"1\" class=\"dataframe\">\n",
              "  <thead>\n",
              "    <tr style=\"text-align: right;\">\n",
              "      <th></th>\n",
              "      <th>Rank</th>\n",
              "      <th>Author</th>\n",
              "      <th>Title</th>\n",
              "      <th>Citations</th>\n",
              "      <th>Year</th>\n",
              "      <th>Publisher</th>\n",
              "      <th>Venue</th>\n",
              "      <th>Source</th>\n",
              "      <th>cit/year</th>\n",
              "    </tr>\n",
              "  </thead>\n",
              "  <tbody>\n",
              "  </tbody>\n",
              "</table>\n",
              "</div>\n",
              "      <button class=\"colab-df-convert\" onclick=\"convertToInteractive('df-994a1fc7-55af-43b0-adba-4388d90f1d8e')\"\n",
              "              title=\"Convert this dataframe to an interactive table.\"\n",
              "              style=\"display:none;\">\n",
              "        \n",
              "  <svg xmlns=\"http://www.w3.org/2000/svg\" height=\"24px\"viewBox=\"0 0 24 24\"\n",
              "       width=\"24px\">\n",
              "    <path d=\"M0 0h24v24H0V0z\" fill=\"none\"/>\n",
              "    <path d=\"M18.56 5.44l.94 2.06.94-2.06 2.06-.94-2.06-.94-.94-2.06-.94 2.06-2.06.94zm-11 1L8.5 8.5l.94-2.06 2.06-.94-2.06-.94L8.5 2.5l-.94 2.06-2.06.94zm10 10l.94 2.06.94-2.06 2.06-.94-2.06-.94-.94-2.06-.94 2.06-2.06.94z\"/><path d=\"M17.41 7.96l-1.37-1.37c-.4-.4-.92-.59-1.43-.59-.52 0-1.04.2-1.43.59L10.3 9.45l-7.72 7.72c-.78.78-.78 2.05 0 2.83L4 21.41c.39.39.9.59 1.41.59.51 0 1.02-.2 1.41-.59l7.78-7.78 2.81-2.81c.8-.78.8-2.07 0-2.86zM5.41 20L4 18.59l7.72-7.72 1.47 1.35L5.41 20z\"/>\n",
              "  </svg>\n",
              "      </button>\n",
              "      \n",
              "  <style>\n",
              "    .colab-df-container {\n",
              "      display:flex;\n",
              "      flex-wrap:wrap;\n",
              "      gap: 12px;\n",
              "    }\n",
              "\n",
              "    .colab-df-convert {\n",
              "      background-color: #E8F0FE;\n",
              "      border: none;\n",
              "      border-radius: 50%;\n",
              "      cursor: pointer;\n",
              "      display: none;\n",
              "      fill: #1967D2;\n",
              "      height: 32px;\n",
              "      padding: 0 0 0 0;\n",
              "      width: 32px;\n",
              "    }\n",
              "\n",
              "    .colab-df-convert:hover {\n",
              "      background-color: #E2EBFA;\n",
              "      box-shadow: 0px 1px 2px rgba(60, 64, 67, 0.3), 0px 1px 3px 1px rgba(60, 64, 67, 0.15);\n",
              "      fill: #174EA6;\n",
              "    }\n",
              "\n",
              "    [theme=dark] .colab-df-convert {\n",
              "      background-color: #3B4455;\n",
              "      fill: #D2E3FC;\n",
              "    }\n",
              "\n",
              "    [theme=dark] .colab-df-convert:hover {\n",
              "      background-color: #434B5C;\n",
              "      box-shadow: 0px 1px 3px 1px rgba(0, 0, 0, 0.15);\n",
              "      filter: drop-shadow(0px 1px 2px rgba(0, 0, 0, 0.3));\n",
              "      fill: #FFFFFF;\n",
              "    }\n",
              "  </style>\n",
              "\n",
              "      <script>\n",
              "        const buttonEl =\n",
              "          document.querySelector('#df-994a1fc7-55af-43b0-adba-4388d90f1d8e button.colab-df-convert');\n",
              "        buttonEl.style.display =\n",
              "          google.colab.kernel.accessAllowed ? 'block' : 'none';\n",
              "\n",
              "        async function convertToInteractive(key) {\n",
              "          const element = document.querySelector('#df-994a1fc7-55af-43b0-adba-4388d90f1d8e');\n",
              "          const dataTable =\n",
              "            await google.colab.kernel.invokeFunction('convertToInteractive',\n",
              "                                                     [key], {});\n",
              "          if (!dataTable) return;\n",
              "\n",
              "          const docLinkHtml = 'Like what you see? Visit the ' +\n",
              "            '<a target=\"_blank\" href=https://colab.research.google.com/notebooks/data_table.ipynb>data table notebook</a>'\n",
              "            + ' to learn more about interactive tables.';\n",
              "          element.innerHTML = '';\n",
              "          dataTable['output_type'] = 'display_data';\n",
              "          await google.colab.output.renderOutput(dataTable, element);\n",
              "          const docLink = document.createElement('div');\n",
              "          docLink.innerHTML = docLinkHtml;\n",
              "          element.appendChild(docLink);\n",
              "        }\n",
              "      </script>\n",
              "    </div>\n",
              "  </div>\n",
              "  "
            ]
          },
          "metadata": {},
          "execution_count": 7
        }
      ]
    },
    {
      "cell_type": "markdown",
      "metadata": {
        "id": "t7ZCDWaksZxj"
      },
      "source": [
        "Above we have the top 10 papers of deep learning ranked by citations per year. It is incredible that some papers are very far away from the original rank."
      ]
    },
    {
      "cell_type": "markdown",
      "metadata": {
        "id": "-xx5GEHuybPd"
      },
      "source": [
        "Finally, let's download the CSV results (make sure to update the CSV name here as well):"
      ]
    },
    {
      "cell_type": "code",
      "source": [
        "df.head(20).to_csv('skin_cancer_20.csv')"
      ],
      "metadata": {
        "id": "LCloqmJU_Kpk"
      },
      "execution_count": 8,
      "outputs": []
    },
    {
      "cell_type": "code",
      "metadata": {
        "id": "Svc1GCM2yaLP"
      },
      "source": [
        "from google.colab import files\n",
        "files.download('skin_cancer.csv') # Update the file name here"
      ],
      "execution_count": null,
      "outputs": []
    },
    {
      "cell_type": "markdown",
      "metadata": {
        "id": "09OFwDdM2K5h"
      },
      "source": [
        "OBS: If you get an error running the previous line, you can download the file manually by clicking in the left pane icon (below the `+ Code` button), then click in files, expand the `sort-google-scholar` folder, right click and download in the csv file:\n",
        "\n",
        "![](https://i.stack.imgur.com/KKJXFm.png)"
      ]
    }
  ]
}